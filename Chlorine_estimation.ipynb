{
 "cells": [
  {
   "cell_type": "code",
   "execution_count": 67,
   "metadata": {},
   "outputs": [],
   "source": [
    "import pandas as pd\n",
    "import matplotlib.pyplot as plt\n",
    "import openpyxl\n",
    "import seaborn as sns\n",
    "from sklearn.preprocessing import StandardScaler\n",
    "from sklearn.model_selection import train_test_split\n",
    "from sklearn.linear_model import LinearRegression\n",
    "from sklearn.metrics import r2_score\n",
    "from sklearn.metrics import mean_squared_error\n",
    "from sklearn.metrics import mean_absolute_error\n",
    "import math\n",
    "from sklearn.feature_selection import SelectKBest\n",
    "from sklearn.feature_selection import f_regression\n",
    "from sklearn.feature_selection import mutual_info_regression\n",
    "import statsmodels.api as sm\n",
    "import statsmodels.formula.api as smf\n"
   ]
  },
  {
   "cell_type": "code",
   "execution_count": 68,
   "metadata": {},
   "outputs": [
    {
     "data": {
      "text/html": [
       "<div>\n",
       "<style scoped>\n",
       "    .dataframe tbody tr th:only-of-type {\n",
       "        vertical-align: middle;\n",
       "    }\n",
       "\n",
       "    .dataframe tbody tr th {\n",
       "        vertical-align: top;\n",
       "    }\n",
       "\n",
       "    .dataframe thead th {\n",
       "        text-align: right;\n",
       "    }\n",
       "</style>\n",
       "<table border=\"1\" class=\"dataframe\">\n",
       "  <thead>\n",
       "    <tr style=\"text-align: right;\">\n",
       "      <th></th>\n",
       "      <th>Cloro_Residual</th>\n",
       "      <th>Caudal entrada</th>\n",
       "      <th>Conductividad entrada</th>\n",
       "      <th>Nivel tanque</th>\n",
       "      <th>Presion entrada</th>\n",
       "      <th>Turbiedad entrada</th>\n",
       "      <th>Hipoclorito</th>\n",
       "    </tr>\n",
       "  </thead>\n",
       "  <tbody>\n",
       "    <tr>\n",
       "      <th>0</th>\n",
       "      <td>1.054378</td>\n",
       "      <td>2.416317</td>\n",
       "      <td>24.648521</td>\n",
       "      <td>2.68894</td>\n",
       "      <td>30.519623</td>\n",
       "      <td>0.495125</td>\n",
       "      <td>31.158679</td>\n",
       "    </tr>\n",
       "    <tr>\n",
       "      <th>1</th>\n",
       "      <td>1.030096</td>\n",
       "      <td>2.417332</td>\n",
       "      <td>24.542732</td>\n",
       "      <td>2.76148</td>\n",
       "      <td>30.489029</td>\n",
       "      <td>0.508532</td>\n",
       "      <td>31.562505</td>\n",
       "    </tr>\n",
       "    <tr>\n",
       "      <th>2</th>\n",
       "      <td>1.019595</td>\n",
       "      <td>2.417332</td>\n",
       "      <td>24.546078</td>\n",
       "      <td>2.76923</td>\n",
       "      <td>30.519623</td>\n",
       "      <td>0.505999</td>\n",
       "      <td>31.738202</td>\n",
       "    </tr>\n",
       "    <tr>\n",
       "      <th>3</th>\n",
       "      <td>1.016194</td>\n",
       "      <td>2.417497</td>\n",
       "      <td>24.549061</td>\n",
       "      <td>2.78008</td>\n",
       "      <td>30.499229</td>\n",
       "      <td>0.502350</td>\n",
       "      <td>31.795255</td>\n",
       "    </tr>\n",
       "    <tr>\n",
       "      <th>4</th>\n",
       "      <td>1.024342</td>\n",
       "      <td>2.417497</td>\n",
       "      <td>24.521473</td>\n",
       "      <td>2.79217</td>\n",
       "      <td>30.519623</td>\n",
       "      <td>0.498966</td>\n",
       "      <td>31.658703</td>\n",
       "    </tr>\n",
       "    <tr>\n",
       "      <th>5</th>\n",
       "      <td>1.016600</td>\n",
       "      <td>2.416968</td>\n",
       "      <td>24.501980</td>\n",
       "      <td>2.80023</td>\n",
       "      <td>30.499229</td>\n",
       "      <td>0.497572</td>\n",
       "      <td>31.788433</td>\n",
       "    </tr>\n",
       "    <tr>\n",
       "      <th>6</th>\n",
       "      <td>1.013455</td>\n",
       "      <td>2.417433</td>\n",
       "      <td>24.484245</td>\n",
       "      <td>2.80860</td>\n",
       "      <td>30.489029</td>\n",
       "      <td>0.494487</td>\n",
       "      <td>31.841248</td>\n",
       "    </tr>\n",
       "    <tr>\n",
       "      <th>7</th>\n",
       "      <td>0.990910</td>\n",
       "      <td>2.416795</td>\n",
       "      <td>24.473400</td>\n",
       "      <td>2.81728</td>\n",
       "      <td>30.509426</td>\n",
       "      <td>0.486125</td>\n",
       "      <td>32.221464</td>\n",
       "    </tr>\n",
       "    <tr>\n",
       "      <th>8</th>\n",
       "      <td>1.001782</td>\n",
       "      <td>2.416967</td>\n",
       "      <td>24.484558</td>\n",
       "      <td>2.82782</td>\n",
       "      <td>30.519623</td>\n",
       "      <td>0.480256</td>\n",
       "      <td>32.037727</td>\n",
       "    </tr>\n",
       "    <tr>\n",
       "      <th>9</th>\n",
       "      <td>0.998896</td>\n",
       "      <td>0.547411</td>\n",
       "      <td>24.495468</td>\n",
       "      <td>2.84642</td>\n",
       "      <td>30.489029</td>\n",
       "      <td>0.481176</td>\n",
       "      <td>32.086442</td>\n",
       "    </tr>\n",
       "  </tbody>\n",
       "</table>\n",
       "</div>"
      ],
      "text/plain": [
       "   Cloro_Residual  Caudal entrada  Conductividad entrada  Nivel tanque  \\\n",
       "0        1.054378        2.416317              24.648521       2.68894   \n",
       "1        1.030096        2.417332              24.542732       2.76148   \n",
       "2        1.019595        2.417332              24.546078       2.76923   \n",
       "3        1.016194        2.417497              24.549061       2.78008   \n",
       "4        1.024342        2.417497              24.521473       2.79217   \n",
       "5        1.016600        2.416968              24.501980       2.80023   \n",
       "6        1.013455        2.417433              24.484245       2.80860   \n",
       "7        0.990910        2.416795              24.473400       2.81728   \n",
       "8        1.001782        2.416967              24.484558       2.82782   \n",
       "9        0.998896        0.547411              24.495468       2.84642   \n",
       "\n",
       "   Presion entrada  Turbiedad entrada  Hipoclorito  \n",
       "0        30.519623           0.495125    31.158679  \n",
       "1        30.489029           0.508532    31.562505  \n",
       "2        30.519623           0.505999    31.738202  \n",
       "3        30.499229           0.502350    31.795255  \n",
       "4        30.519623           0.498966    31.658703  \n",
       "5        30.499229           0.497572    31.788433  \n",
       "6        30.489029           0.494487    31.841248  \n",
       "7        30.509426           0.486125    32.221464  \n",
       "8        30.519623           0.480256    32.037727  \n",
       "9        30.489029           0.481176    32.086442  "
      ]
     },
     "execution_count": 68,
     "metadata": {},
     "output_type": "execute_result"
    }
   ],
   "source": [
    "datos = pd.read_excel(\"datos_palmitas.xlsx\",sheet_name=\"Datos\")\n",
    "#datos.index=datos[\"Fecha\"]\n",
    "#datos = datos[~datos.index.duplicated(keep='first')]\n",
    "#datos = datos.sort_index()\n",
    "datos.drop([\"Fecha\"],axis=1,inplace=True)\n",
    "datos.head(10)"
   ]
  },
  {
   "cell_type": "code",
   "execution_count": 69,
   "metadata": {},
   "outputs": [
    {
     "data": {
      "text/plain": [
       "Cloro_Residual            1\n",
       "Caudal entrada           55\n",
       "Conductividad entrada     1\n",
       "Nivel tanque              4\n",
       "Presion entrada           6\n",
       "Turbiedad entrada         0\n",
       "Hipoclorito               0\n",
       "dtype: int64"
      ]
     },
     "execution_count": 69,
     "metadata": {},
     "output_type": "execute_result"
    }
   ],
   "source": [
    "datos.isnull().sum()"
   ]
  },
  {
   "cell_type": "code",
   "execution_count": 70,
   "metadata": {},
   "outputs": [],
   "source": [
    "datos['Caudal entrada'].fillna(method='ffill',inplace=True)\n",
    "datos['Cloro_Residual'].fillna(method='ffill',inplace=True)\n",
    "datos['Conductividad entrada'].fillna(method='ffill',inplace=True)\n",
    "datos['Nivel tanque'].fillna(method='ffill',inplace=True)\n",
    "datos['Presion entrada'].fillna(method='ffill',inplace=True)"
   ]
  },
  {
   "cell_type": "code",
   "execution_count": 71,
   "metadata": {},
   "outputs": [
    {
     "name": "stdout",
     "output_type": "stream",
     "text": [
      "1.7389904308319082 0.7636728334426879\n"
     ]
    }
   ],
   "source": [
    "print(datos['Cloro_Residual'].quantile(0.98),datos['Cloro_Residual'].quantile(0.02))\n"
   ]
  },
  {
   "cell_type": "code",
   "execution_count": 72,
   "metadata": {},
   "outputs": [],
   "source": [
    "datos['Cloro_Residual'][datos['Cloro_Residual']>1.87] = datos['Cloro_Residual'].quantile(0.98)\n",
    "datos['Cloro_Residual'][datos['Cloro_Residual']<0.82] = datos['Cloro_Residual'].quantile(0.02)"
   ]
  },
  {
   "cell_type": "code",
   "execution_count": 73,
   "metadata": {},
   "outputs": [
    {
     "data": {
      "text/plain": [
       "<AxesSubplot:>"
      ]
     },
     "execution_count": 73,
     "metadata": {},
     "output_type": "execute_result"
    },
    {
     "data": {
      "image/png": "[encoded data removed]",
      "text/plain": [
       "<Figure size 432x288 with 1 Axes>"
      ]
     },
     "metadata": {
      "needs_background": "light"
     },
     "output_type": "display_data"
    }
   ],
   "source": [
    "datos['Cloro_Residual'].hist()"
   ]
  },
  {
   "cell_type": "code",
   "execution_count": 74,
   "metadata": {},
   "outputs": [
    {
     "data": {
      "text/plain": [
       "count    54143.000000\n",
       "mean         1.705634\n",
       "std          0.911616\n",
       "min          0.000000\n",
       "25%          1.835028\n",
       "50%          2.141835\n",
       "75%          2.248621\n",
       "max          6.057432\n",
       "Name: Caudal entrada, dtype: float64"
      ]
     },
     "execution_count": 74,
     "metadata": {},
     "output_type": "execute_result"
    }
   ],
   "source": [
    "datos['Caudal entrada'].describe()"
   ]
  },
  {
   "cell_type": "code",
   "execution_count": 75,
   "metadata": {},
   "outputs": [],
   "source": [
    "datos['Caudal entrada'][datos['Caudal entrada']==0] = datos['Caudal entrada'].mean()"
   ]
  },
  {
   "cell_type": "code",
   "execution_count": 76,
   "metadata": {},
   "outputs": [
    {
     "data": {
      "text/plain": [
       "2.4518395423889157"
      ]
     },
     "execution_count": 76,
     "metadata": {},
     "output_type": "execute_result"
    }
   ],
   "source": [
    "datos['Caudal entrada'].quantile(0.98)"
   ]
  },
  {
   "cell_type": "code",
   "execution_count": 77,
   "metadata": {},
   "outputs": [],
   "source": [
    "datos['Caudal entrada'][datos['Caudal entrada']>2.43] = datos['Caudal entrada'].quantile(0.98)"
   ]
  },
  {
   "cell_type": "code",
   "execution_count": 78,
   "metadata": {},
   "outputs": [
    {
     "data": {
      "text/plain": [
       "<AxesSubplot:>"
      ]
     },
     "execution_count": 78,
     "metadata": {},
     "output_type": "execute_result"
    },
    {
     "data": {
      "image/png": "[encoded data removed]",
      "text/plain": [
       "<Figure size 432x288 with 1 Axes>"
      ]
     },
     "metadata": {
      "needs_background": "light"
     },
     "output_type": "display_data"
    }
   ],
   "source": [
    "datos['Caudal entrada'].hist()"
   ]
  },
  {
   "cell_type": "code",
   "execution_count": 79,
   "metadata": {},
   "outputs": [
    {
     "data": {
      "text/plain": [
       "count    54143.000000\n",
       "mean        25.036868\n",
       "std          1.551001\n",
       "min          0.000000\n",
       "25%         23.736004\n",
       "50%         24.901997\n",
       "75%         25.968735\n",
       "max         54.909737\n",
       "Name: Conductividad entrada, dtype: float64"
      ]
     },
     "execution_count": 79,
     "metadata": {},
     "output_type": "execute_result"
    }
   ],
   "source": [
    "datos['Conductividad entrada'].describe()"
   ]
  },
  {
   "cell_type": "code",
   "execution_count": 80,
   "metadata": {},
   "outputs": [
    {
     "data": {
      "text/plain": [
       "22.798090667724633"
      ]
     },
     "execution_count": 80,
     "metadata": {},
     "output_type": "execute_result"
    }
   ],
   "source": [
    "datos['Conductividad entrada'].quantile(0.02)"
   ]
  },
  {
   "cell_type": "code",
   "execution_count": 81,
   "metadata": {},
   "outputs": [
    {
     "data": {
      "text/plain": [
       "28.607726898193373"
      ]
     },
     "execution_count": 81,
     "metadata": {},
     "output_type": "execute_result"
    }
   ],
   "source": [
    "datos['Conductividad entrada'].quantile(0.98)"
   ]
  },
  {
   "cell_type": "code",
   "execution_count": 82,
   "metadata": {},
   "outputs": [],
   "source": [
    "datos['Conductividad entrada'][datos['Conductividad entrada']<22.78] = datos['Conductividad entrada'].quantile(0.02)\n",
    "datos['Conductividad entrada'][datos['Conductividad entrada']>28.34] = datos['Conductividad entrada'].quantile(0.98)"
   ]
  },
  {
   "cell_type": "code",
   "execution_count": 83,
   "metadata": {},
   "outputs": [
    {
     "data": {
      "text/plain": [
       "1.1829104042053245"
      ]
     },
     "execution_count": 83,
     "metadata": {},
     "output_type": "execute_result"
    }
   ],
   "source": [
    "datos['Nivel tanque'].describe()\n",
    "datos['Nivel tanque'].quantile(0.02)"
   ]
  },
  {
   "cell_type": "code",
   "execution_count": 84,
   "metadata": {},
   "outputs": [],
   "source": [
    "datos['Nivel tanque'][datos['Nivel tanque']<1.44] = datos['Nivel tanque'].quantile(0.02)"
   ]
  },
  {
   "cell_type": "code",
   "execution_count": 85,
   "metadata": {},
   "outputs": [
    {
     "data": {
      "text/plain": [
       "count    54143.000000\n",
       "mean        31.204899\n",
       "std          2.546427\n",
       "min          0.000000\n",
       "25%         30.601196\n",
       "50%         30.907108\n",
       "75%         31.416958\n",
       "max         46.702263\n",
       "Name: Presion entrada, dtype: float64"
      ]
     },
     "execution_count": 85,
     "metadata": {},
     "output_type": "execute_result"
    }
   ],
   "source": [
    "datos['Presion entrada'].describe()"
   ]
  },
  {
   "cell_type": "code",
   "execution_count": 86,
   "metadata": {},
   "outputs": [
    {
     "name": "stdout",
     "output_type": "stream",
     "text": [
      "23.349499969482437 34.2211303710938\n"
     ]
    }
   ],
   "source": [
    "print(datos['Presion entrada'].quantile(0.02),datos['Presion entrada'].quantile(0.98))"
   ]
  },
  {
   "cell_type": "code",
   "execution_count": 87,
   "metadata": {},
   "outputs": [],
   "source": [
    "datos['Presion entrada'][datos['Presion entrada']<25.32] = datos['Presion entrada'].quantile(0.02)\n",
    "datos['Presion entrada'][datos['Presion entrada']>34.23] = datos['Presion entrada'].quantile(0.98)"
   ]
  },
  {
   "cell_type": "code",
   "execution_count": 88,
   "metadata": {},
   "outputs": [
    {
     "data": {
      "text/plain": [
       "count    54143.000000\n",
       "mean         2.655398\n",
       "std         16.764284\n",
       "min          0.000000\n",
       "25%          0.561593\n",
       "50%          0.864011\n",
       "75%          1.454267\n",
       "max        801.084839\n",
       "Name: Turbiedad entrada, dtype: float64"
      ]
     },
     "execution_count": 88,
     "metadata": {},
     "output_type": "execute_result"
    }
   ],
   "source": [
    "datos['Turbiedad entrada'].describe()"
   ]
  },
  {
   "cell_type": "code",
   "execution_count": 89,
   "metadata": {},
   "outputs": [
    {
     "name": "stdout",
     "output_type": "stream",
     "text": [
      "0.2843874049186708 4.922321510314937\n"
     ]
    }
   ],
   "source": [
    "print(datos['Turbiedad entrada'].quantile(0.02),datos['Turbiedad entrada'].quantile(0.95))"
   ]
  },
  {
   "cell_type": "code",
   "execution_count": 90,
   "metadata": {},
   "outputs": [],
   "source": [
    "datos['Turbiedad entrada'][datos['Turbiedad entrada']<0.30] = datos['Turbiedad entrada'].quantile(0.02)\n",
    "datos['Turbiedad entrada'][datos['Turbiedad entrada']>6.02] = datos['Turbiedad entrada'].quantile(0.95)"
   ]
  },
  {
   "cell_type": "code",
   "execution_count": 91,
   "metadata": {},
   "outputs": [
    {
     "data": {
      "text/plain": [
       "<AxesSubplot:>"
      ]
     },
     "execution_count": 91,
     "metadata": {},
     "output_type": "execute_result"
    },
    {
     "data": {
      "image/png": "[encoded data removed]",
      "text/plain": [
       "<Figure size 432x288 with 1 Axes>"
      ]
     },
     "metadata": {
      "needs_background": "light"
     },
     "output_type": "display_data"
    }
   ],
   "source": [
    "datos['Hipoclorito'].describe()\n",
    "datos['Hipoclorito'].hist()"
   ]
  },
  {
   "cell_type": "code",
   "execution_count": 92,
   "metadata": {},
   "outputs": [
    {
     "data": {
      "text/plain": [
       "count    54143.000000\n",
       "mean        28.366875\n",
       "std          3.701383\n",
       "min         12.725612\n",
       "25%         25.813201\n",
       "50%         28.506571\n",
       "75%         30.776875\n",
       "max         51.864000\n",
       "Name: Hipoclorito, dtype: float64"
      ]
     },
     "execution_count": 92,
     "metadata": {},
     "output_type": "execute_result"
    }
   ],
   "source": [
    "datos['Hipoclorito'].describe()"
   ]
  },
  {
   "cell_type": "code",
   "execution_count": 93,
   "metadata": {},
   "outputs": [
    {
     "data": {
      "text/plain": [
       "21.189539605818336"
      ]
     },
     "execution_count": 93,
     "metadata": {},
     "output_type": "execute_result"
    }
   ],
   "source": [
    "datos['Hipoclorito'].quantile(0.02)"
   ]
  },
  {
   "cell_type": "code",
   "execution_count": 94,
   "metadata": {},
   "outputs": [
    {
     "data": {
      "text/plain": [
       "36.21940464772449"
      ]
     },
     "execution_count": 94,
     "metadata": {},
     "output_type": "execute_result"
    }
   ],
   "source": [
    "datos['Hipoclorito'].quantile(0.98)"
   ]
  },
  {
   "cell_type": "code",
   "execution_count": 95,
   "metadata": {},
   "outputs": [],
   "source": [
    "datos['Hipoclorito'][datos['Hipoclorito']<19.56] = datos['Hipoclorito'].quantile(0.02)\n",
    "datos['Hipoclorito'][datos['Hipoclorito']>35.16] = datos['Hipoclorito'].quantile(0.98)"
   ]
  },
  {
   "cell_type": "code",
   "execution_count": 96,
   "metadata": {},
   "outputs": [
    {
     "data": {
      "text/html": [
       "<div>\n",
       "<style scoped>\n",
       "    .dataframe tbody tr th:only-of-type {\n",
       "        vertical-align: middle;\n",
       "    }\n",
       "\n",
       "    .dataframe tbody tr th {\n",
       "        vertical-align: top;\n",
       "    }\n",
       "\n",
       "    .dataframe thead th {\n",
       "        text-align: right;\n",
       "    }\n",
       "</style>\n",
       "<table border=\"1\" class=\"dataframe\">\n",
       "  <thead>\n",
       "    <tr style=\"text-align: right;\">\n",
       "      <th></th>\n",
       "      <th>Cloro_Residual</th>\n",
       "      <th>Caudal entrada</th>\n",
       "      <th>Conductividad entrada</th>\n",
       "      <th>Nivel tanque</th>\n",
       "      <th>Presion entrada</th>\n",
       "      <th>Turbiedad entrada</th>\n",
       "      <th>Hipoclorito</th>\n",
       "    </tr>\n",
       "  </thead>\n",
       "  <tbody>\n",
       "    <tr>\n",
       "      <th>0</th>\n",
       "      <td>1.054378</td>\n",
       "      <td>2.416317</td>\n",
       "      <td>24.648521</td>\n",
       "      <td>2.68894</td>\n",
       "      <td>30.519623</td>\n",
       "      <td>0.495125</td>\n",
       "      <td>31.158679</td>\n",
       "    </tr>\n",
       "    <tr>\n",
       "      <th>1</th>\n",
       "      <td>1.030096</td>\n",
       "      <td>2.417332</td>\n",
       "      <td>24.542732</td>\n",
       "      <td>2.76148</td>\n",
       "      <td>30.489029</td>\n",
       "      <td>0.508532</td>\n",
       "      <td>31.562505</td>\n",
       "    </tr>\n",
       "    <tr>\n",
       "      <th>2</th>\n",
       "      <td>1.019595</td>\n",
       "      <td>2.417332</td>\n",
       "      <td>24.546078</td>\n",
       "      <td>2.76923</td>\n",
       "      <td>30.519623</td>\n",
       "      <td>0.505999</td>\n",
       "      <td>31.738202</td>\n",
       "    </tr>\n",
       "    <tr>\n",
       "      <th>3</th>\n",
       "      <td>1.016194</td>\n",
       "      <td>2.417497</td>\n",
       "      <td>24.549061</td>\n",
       "      <td>2.78008</td>\n",
       "      <td>30.499229</td>\n",
       "      <td>0.502350</td>\n",
       "      <td>31.795255</td>\n",
       "    </tr>\n",
       "    <tr>\n",
       "      <th>4</th>\n",
       "      <td>1.024342</td>\n",
       "      <td>2.417497</td>\n",
       "      <td>24.521473</td>\n",
       "      <td>2.79217</td>\n",
       "      <td>30.519623</td>\n",
       "      <td>0.498966</td>\n",
       "      <td>31.658703</td>\n",
       "    </tr>\n",
       "    <tr>\n",
       "      <th>5</th>\n",
       "      <td>1.016600</td>\n",
       "      <td>2.416968</td>\n",
       "      <td>24.501980</td>\n",
       "      <td>2.80023</td>\n",
       "      <td>30.499229</td>\n",
       "      <td>0.497572</td>\n",
       "      <td>31.788433</td>\n",
       "    </tr>\n",
       "    <tr>\n",
       "      <th>6</th>\n",
       "      <td>1.013455</td>\n",
       "      <td>2.417433</td>\n",
       "      <td>24.484245</td>\n",
       "      <td>2.80860</td>\n",
       "      <td>30.489029</td>\n",
       "      <td>0.494487</td>\n",
       "      <td>31.841248</td>\n",
       "    </tr>\n",
       "    <tr>\n",
       "      <th>7</th>\n",
       "      <td>0.990910</td>\n",
       "      <td>2.416795</td>\n",
       "      <td>24.473400</td>\n",
       "      <td>2.81728</td>\n",
       "      <td>30.509426</td>\n",
       "      <td>0.486125</td>\n",
       "      <td>32.221464</td>\n",
       "    </tr>\n",
       "    <tr>\n",
       "      <th>8</th>\n",
       "      <td>1.001782</td>\n",
       "      <td>2.416967</td>\n",
       "      <td>24.484558</td>\n",
       "      <td>2.82782</td>\n",
       "      <td>30.519623</td>\n",
       "      <td>0.480256</td>\n",
       "      <td>32.037727</td>\n",
       "    </tr>\n",
       "    <tr>\n",
       "      <th>9</th>\n",
       "      <td>0.998896</td>\n",
       "      <td>0.547411</td>\n",
       "      <td>24.495468</td>\n",
       "      <td>2.84642</td>\n",
       "      <td>30.489029</td>\n",
       "      <td>0.481176</td>\n",
       "      <td>32.086442</td>\n",
       "    </tr>\n",
       "  </tbody>\n",
       "</table>\n",
       "</div>"
      ],
      "text/plain": [
       "   Cloro_Residual  Caudal entrada  Conductividad entrada  Nivel tanque  \\\n",
       "0        1.054378        2.416317              24.648521       2.68894   \n",
       "1        1.030096        2.417332              24.542732       2.76148   \n",
       "2        1.019595        2.417332              24.546078       2.76923   \n",
       "3        1.016194        2.417497              24.549061       2.78008   \n",
       "4        1.024342        2.417497              24.521473       2.79217   \n",
       "5        1.016600        2.416968              24.501980       2.80023   \n",
       "6        1.013455        2.417433              24.484245       2.80860   \n",
       "7        0.990910        2.416795              24.473400       2.81728   \n",
       "8        1.001782        2.416967              24.484558       2.82782   \n",
       "9        0.998896        0.547411              24.495468       2.84642   \n",
       "\n",
       "   Presion entrada  Turbiedad entrada  Hipoclorito  \n",
       "0        30.519623           0.495125    31.158679  \n",
       "1        30.489029           0.508532    31.562505  \n",
       "2        30.519623           0.505999    31.738202  \n",
       "3        30.499229           0.502350    31.795255  \n",
       "4        30.519623           0.498966    31.658703  \n",
       "5        30.499229           0.497572    31.788433  \n",
       "6        30.489029           0.494487    31.841248  \n",
       "7        30.509426           0.486125    32.221464  \n",
       "8        30.519623           0.480256    32.037727  \n",
       "9        30.489029           0.481176    32.086442  "
      ]
     },
     "execution_count": 96,
     "metadata": {},
     "output_type": "execute_result"
    }
   ],
   "source": [
    "datos.columns.tolist()\n",
    "datos.head(10)"
   ]
  },
  {
   "cell_type": "code",
   "execution_count": 97,
   "metadata": {},
   "outputs": [],
   "source": [
    "datos_corr = datos.drop('Hipoclorito',axis=1)"
   ]
  },
  {
   "cell_type": "code",
   "execution_count": 129,
   "metadata": {},
   "outputs": [
    {
     "data": {
      "text/plain": [
       "<AxesSubplot:>"
      ]
     },
     "execution_count": 129,
     "metadata": {},
     "output_type": "execute_result"
    },
    {
     "data": {
      "image/png": "[encoded data removed]",
      "text/plain": [
       "<Figure size 432x288 with 2 Axes>"
      ]
     },
     "metadata": {
      "needs_background": "light"
     },
     "output_type": "display_data"
    }
   ],
   "source": [
    "corr = datos.corr()\n",
    "sns.heatmap(corr, xticklabels=corr.columns, yticklabels=corr.columns, annot=True, cmap='RdYlGn')"
   ]
  },
  {
   "cell_type": "code",
   "execution_count": 99,
   "metadata": {},
   "outputs": [],
   "source": [
    "X = datos.iloc[:,[0,1,2,3,4,5]]\n",
    "Y = datos['Hipoclorito']"
   ]
  },
  {
   "cell_type": "code",
   "execution_count": 100,
   "metadata": {},
   "outputs": [],
   "source": [
    "X_train, X_test, y_train, y_test = train_test_split(X,Y,test_size=0.2,random_state=0)"
   ]
  },
  {
   "cell_type": "code",
   "execution_count": 101,
   "metadata": {},
   "outputs": [
    {
     "data": {
      "text/plain": [
       "LinearRegression()"
      ]
     },
     "execution_count": 101,
     "metadata": {},
     "output_type": "execute_result"
    }
   ],
   "source": [
    "lrm = LinearRegression()\n",
    "lrm.fit(X_train,y_train)"
   ]
  },
  {
   "cell_type": "code",
   "execution_count": 102,
   "metadata": {},
   "outputs": [
    {
     "name": "stdout",
     "output_type": "stream",
     "text": [
      "[-1.53872366e+01 -4.63433762e-02  2.77749674e-02 -6.80999998e-02\n",
      "  3.83525817e-03 -4.53365622e-03]\n",
      "46.87358110588988\n"
     ]
    }
   ],
   "source": [
    "y_pred_lr = lrm.predict(X_test)\n",
    "y_pred_train_lr = lrm.predict(X_train)\n",
    "\n",
    "print(lrm.coef_)\n",
    "print(lrm.intercept_)"
   ]
  },
  {
   "cell_type": "code",
   "execution_count": 103,
   "metadata": {},
   "outputs": [
    {
     "data": {
      "text/plain": [
       "0.18709869072023597"
      ]
     },
     "execution_count": 103,
     "metadata": {},
     "output_type": "execute_result"
    }
   ],
   "source": [
    "math.sqrt(mean_squared_error(y_train, y_pred_train_lr))"
   ]
  },
  {
   "cell_type": "code",
   "execution_count": 104,
   "metadata": {},
   "outputs": [
    {
     "data": {
      "text/plain": [
       "0.1850346709772269"
      ]
     },
     "execution_count": 104,
     "metadata": {},
     "output_type": "execute_result"
    }
   ],
   "source": [
    "math.sqrt(mean_squared_error(y_test, y_pred_lr))"
   ]
  },
  {
   "cell_type": "code",
   "execution_count": 105,
   "metadata": {},
   "outputs": [
    {
     "data": {
      "text/plain": [
       "0.1328446060403402"
      ]
     },
     "execution_count": 105,
     "metadata": {},
     "output_type": "execute_result"
    }
   ],
   "source": [
    "mean_absolute_error(y_train, y_pred_train_lr)"
   ]
  },
  {
   "cell_type": "code",
   "execution_count": 106,
   "metadata": {},
   "outputs": [
    {
     "data": {
      "text/plain": [
       "0.13196049637636376"
      ]
     },
     "execution_count": 106,
     "metadata": {},
     "output_type": "execute_result"
    }
   ],
   "source": [
    "mean_absolute_error(y_test, y_pred_lr)"
   ]
  },
  {
   "cell_type": "code",
   "execution_count": 107,
   "metadata": {},
   "outputs": [
    {
     "data": {
      "text/plain": [
       "0.997123198996094"
      ]
     },
     "execution_count": 107,
     "metadata": {},
     "output_type": "execute_result"
    }
   ],
   "source": [
    "r2_score(y_train,y_pred_train_lr)"
   ]
  },
  {
   "cell_type": "code",
   "execution_count": 108,
   "metadata": {},
   "outputs": [
    {
     "data": {
      "text/plain": [
       "0.9971606579590828"
      ]
     },
     "execution_count": 108,
     "metadata": {},
     "output_type": "execute_result"
    }
   ],
   "source": [
    "r2_score(y_test,y_pred_lr)"
   ]
  },
  {
   "cell_type": "code",
   "execution_count": 109,
   "metadata": {},
   "outputs": [
    {
     "data": {
      "image/png": "[encoded data removed]",
      "text/plain": [
       "<Figure size 432x288 with 1 Axes>"
      ]
     },
     "metadata": {
      "needs_background": "light"
     },
     "output_type": "display_data"
    }
   ],
   "source": [
    "fig, ax = plt.subplots()\n",
    "ax.scatter(y_test, y_pred_lr, edgecolors=(0, 0, 0))\n",
    "ax.plot([y_test.min(), y_test.max()], [y_test.min(), y_test.max()], 'k--', lw=4)\n",
    "ax.set_xlabel('Actual dosis')\n",
    "ax.set_ylabel('Predicted dosis')\n",
    "ax.set_title('Dosis real vs Predicción modelo de RL')\n",
    "plt.show()"
   ]
  },
  {
   "cell_type": "code",
   "execution_count": 110,
   "metadata": {},
   "outputs": [],
   "source": [
    "#cloro = 0.95\n",
    "caudal = 0.12\n",
    "conductividad = 20\n",
    "nivel = 2.12\n",
    "presion = 23\n",
    "turbiedad = 0.3"
   ]
  },
  {
   "cell_type": "code",
   "execution_count": 111,
   "metadata": {},
   "outputs": [
    {
     "data": {
      "text/plain": [
       "30.39912336678724"
      ]
     },
     "execution_count": 111,
     "metadata": {},
     "output_type": "execute_result"
    }
   ],
   "source": [
    "hipoclorito = (lrm.coef_[0]*cloro + lrm.coef_[1]*caudal + lrm.coef_[2]*conductividad + lrm.coef_[3]*nivel + lrm.coef_[4]*presion + lrm.coef_[5]*turbiedad + lrm.intercept_)-2.349\n",
    "hipoclorito"
   ]
  },
  {
   "cell_type": "code",
   "execution_count": 112,
   "metadata": {},
   "outputs": [
    {
     "data": {
      "text/plain": [
       "0.9506035225761897"
      ]
     },
     "execution_count": 112,
     "metadata": {},
     "output_type": "execute_result"
    }
   ],
   "source": [
    "cloro_r = hipoclorito/(lrm.coef_[0] + lrm.coef_[1]*caudal + lrm.coef_[2]*conductividad + lrm.coef_[3]*nivel + lrm.coef_[4]*presion + lrm.coef_[5]*turbiedad + lrm.intercept_)\n",
    "cloro_r"
   ]
  },
  {
   "cell_type": "code",
   "execution_count": 113,
   "metadata": {},
   "outputs": [
    {
     "name": "stdout",
     "output_type": "stream",
     "text": [
      "-15.387236551750227 -0.04634337619637419 0.027774967440484938 -0.06809999984571606 0.003835258170932332 -0.004533656215271589 46.87358110588988\n"
     ]
    }
   ],
   "source": [
    "print(lrm.coef_[0],lrm.coef_[1],lrm.coef_[2],lrm.coef_[3],lrm.coef_[4],lrm.coef_[5],lrm.intercept_)"
   ]
  },
  {
   "cell_type": "code",
   "execution_count": 120,
   "metadata": {},
   "outputs": [
    {
     "data": {
      "text/plain": [
       "['Cloro_Residual',\n",
       " 'Caudal entrada',\n",
       " 'Conductividad entrada',\n",
       " 'Nivel tanque',\n",
       " 'Presion entrada',\n",
       " 'Turbiedad entrada',\n",
       " 'Hipoclorito']"
      ]
     },
     "execution_count": 120,
     "metadata": {},
     "output_type": "execute_result"
    }
   ],
   "source": [
    "datos.columns.tolist()"
   ]
  },
  {
   "cell_type": "code",
   "execution_count": 122,
   "metadata": {},
   "outputs": [],
   "source": [
    "datos3 = datos.drop('Cloro_Residual',axis=1)"
   ]
  },
  {
   "cell_type": "code",
   "execution_count": 123,
   "metadata": {},
   "outputs": [],
   "source": [
    "X = datos3.drop('Hipoclorito',axis=1)\n",
    "Y = datos3['Hipoclorito']"
   ]
  },
  {
   "cell_type": "code",
   "execution_count": 124,
   "metadata": {},
   "outputs": [],
   "source": [
    "X_train, X_test, y_train, y_test = train_test_split(X,Y,test_size=0.2,random_state=0)"
   ]
  },
  {
   "cell_type": "code",
   "execution_count": 125,
   "metadata": {},
   "outputs": [
    {
     "data": {
      "text/plain": [
       "LinearRegression()"
      ]
     },
     "execution_count": 125,
     "metadata": {},
     "output_type": "execute_result"
    }
   ],
   "source": [
    "lrm = LinearRegression()\n",
    "lrm.fit(X_train,y_train)"
   ]
  },
  {
   "cell_type": "code",
   "execution_count": 127,
   "metadata": {},
   "outputs": [
    {
     "name": "stdout",
     "output_type": "stream",
     "text": [
      "[ 1.95438731  0.01658331 -1.11588261 -0.12660262  0.40590993]\n",
      "30.210232108714195\n"
     ]
    }
   ],
   "source": [
    "y_pred_lr = lrm.predict(X_test)\n",
    "y_pred_train_lr = lrm.predict(X_train)\n",
    "\n",
    "print(lrm.coef_)\n",
    "print(lrm.intercept_)"
   ]
  },
  {
   "cell_type": "code",
   "execution_count": 128,
   "metadata": {},
   "outputs": [
    {
     "data": {
      "text/plain": [
       "0.1062781577101164"
      ]
     },
     "execution_count": 128,
     "metadata": {},
     "output_type": "execute_result"
    }
   ],
   "source": [
    "r2_score(y_train,y_pred_train_lr)"
   ]
  },
  {
   "cell_type": "code",
   "execution_count": 114,
   "metadata": {},
   "outputs": [],
   "source": [
    "hipoclorito = datos['Cloro_Residual']\n",
    "Cloro = datos['Hipoclorito']"
   ]
  },
  {
   "cell_type": "code",
   "execution_count": 115,
   "metadata": {},
   "outputs": [
    {
     "data": {
      "image/png": "[encoded data removed]",
      "text/plain": [
       "<Figure size 432x276.48 with 1 Axes>"
      ]
     },
     "metadata": {
      "needs_background": "light"
     },
     "output_type": "display_data"
    }
   ],
   "source": [
    "fig, ax = plt.subplots(figsize=(6, 3.84))\n",
    "\n",
    "datos.plot(\n",
    "    x    = 'Cloro_Residual',\n",
    "    y    = 'Hipoclorito',\n",
    "    c    = 'firebrick',\n",
    "    kind = \"scatter\",\n",
    "    ax   = ax\n",
    ")\n",
    "ax.set_title('Relación hipoclorito vs cloro residual');"
   ]
  },
  {
   "cell_type": "code",
   "execution_count": 116,
   "metadata": {},
   "outputs": [
    {
     "data": {
      "text/plain": [
       "LinearRegression()"
      ]
     },
     "execution_count": 116,
     "metadata": {},
     "output_type": "execute_result"
    }
   ],
   "source": [
    "X = datos[['Cloro_Residual']]\n",
    "y = datos['Hipoclorito']\n",
    "\n",
    "X_train, X_test, y_train, y_test = train_test_split(\n",
    "                                        X.values.reshape(-1,1),\n",
    "                                        y.values.reshape(-1,1),\n",
    "                                        train_size   = 0.8,\n",
    "                                        shuffle      = True\n",
    "                                    )\n",
    "\n",
    "# Creación del modelo\n",
    "# ==============================================================================\n",
    "modelo = LinearRegression()\n",
    "modelo.fit(X = X_train.reshape(-1, 1), y = y_train)"
   ]
  },
  {
   "cell_type": "code",
   "execution_count": 117,
   "metadata": {},
   "outputs": [
    {
     "name": "stdout",
     "output_type": "stream",
     "text": [
      "Intercept: [47.38850599]\n",
      "Coeficiente: [('Cloro_Residual', -15.365380987913523)]\n",
      "Coeficiente de determinación R^2: 0.9969209332076422\n"
     ]
    },
    {
     "name": "stderr",
     "output_type": "stream",
     "text": [
      "D:\\Analitica\\cloro\\lib\\site-packages\\sklearn\\base.py:443: UserWarning: X has feature names, but LinearRegression was fitted without feature names\n",
      "  warnings.warn(\n"
     ]
    }
   ],
   "source": [
    "# Información del modelo\n",
    "# ==============================================================================\n",
    "print(\"Intercept:\", modelo.intercept_)\n",
    "print(\"Coeficiente:\", list(zip(X.columns, modelo.coef_.flatten(), )))\n",
    "print(\"Coeficiente de determinación R^2:\", modelo.score(X, y))"
   ]
  },
  {
   "cell_type": "code",
   "execution_count": 118,
   "metadata": {},
   "outputs": [
    {
     "name": "stdout",
     "output_type": "stream",
     "text": [
      "32.79276856053676\n"
     ]
    }
   ],
   "source": [
    "hipoclorito = ((-15.368624599434991*0.9500) + 47.39296193)\n",
    "print(hipoclorito)"
   ]
  },
  {
   "cell_type": "code",
   "execution_count": 119,
   "metadata": {},
   "outputs": [
    {
     "name": "stdout",
     "output_type": "stream",
     "text": [
      "[[28.53004381]\n",
      " [29.1402807 ]\n",
      " [34.30731604]]\n",
      "\n",
      "El error (rmse) de test es: 0.19478193798857055\n"
     ]
    }
   ],
   "source": [
    "# Error de test del modelo \n",
    "# ==============================================================================\n",
    "predicciones = modelo.predict(X = X_test)\n",
    "print(predicciones[0:3,])\n",
    "\n",
    "rmse = mean_squared_error(\n",
    "        y_true  = y_test,\n",
    "        y_pred  = predicciones,\n",
    "        squared = False\n",
    "       )\n",
    "print(\"\")\n",
    "print(f\"El error (rmse) de test es: {rmse}\")"
   ]
  }
 ],
 "metadata": {
  "interpreter": {
   "hash": "a36bca5ff974c401f09def3bd15a4190e702c70b8d733d15552420935303c2a8"
  },
  "kernelspec": {
   "display_name": "Python 3.10.1 64-bit (system)",
   "language": "python",
   "name": "python3"
  },
  "language_info": {
   "codemirror_mode": {
    "name": "ipython",
    "version": 3
   },
   "file_extension": ".py",
   "mimetype": "text/x-python",
   "name": "python",
   "nbconvert_exporter": "python",
   "pygments_lexer": "ipython3",
   "version": "3.10.1"
  },
  "orig_nbformat": 4
 },
 "nbformat": 4,
 "nbformat_minor": 2
}

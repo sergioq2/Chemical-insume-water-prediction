{
 "cells": [
  {
   "cell_type": "code",
   "execution_count": 12,
   "metadata": {},
   "outputs": [
    {
     "name": "stdout",
     "output_type": "stream",
     "text": [
      "[1, 1, 2, 3, 4, 5, 6, 7, 8, 9]\n"
     ]
    }
   ],
   "source": [
    "n = int(input(\"Ingrese un numero: \"))\n",
    "serie = []\n",
    "for i in range(n):\n",
    "    if i==0:\n",
    "        a=1\n",
    "    elif i==1:\n",
    "        a=1\n",
    "    else:\n",
    "        a=i\n",
    "    serie.append(a)\n",
    "    for j in serie:\n",
    "        \n",
    "print(serie)\n",
    "    "
   ]
  },
  {
   "cell_type": "code",
   "execution_count": null,
   "metadata": {},
   "outputs": [],
   "source": [
    "def fibonacci_iter(n):\n",
    "    a=1\n",
    "    b=1\n",
    "    if n==1:\n",
    "        print('0')\n",
    "    elif n==2:\n",
    "        print('0','1')\n",
    "    else:\n",
    "        print('0')\n",
    "        print(a)\n",
    "        print(b)\n",
    "        for i in range(n-3):\n",
    "            total = a + b\n",
    "            b=a\n",
    "            a= total\n",
    "            print(total)\n",
    "         \n",
    "fibonacci_iter(8)"
   ]
  },
  {
   "cell_type": "code",
   "execution_count": 31,
   "metadata": {},
   "outputs": [
    {
     "name": "stdout",
     "output_type": "stream",
     "text": [
      "1\n",
      "1\n",
      "2\n",
      "3\n",
      "5\n",
      "8\n",
      "13\n",
      "21\n",
      "34\n",
      "55\n",
      "89\n",
      "144\n"
     ]
    }
   ],
   "source": [
    "numero = int(input(\"Por favor ingrese un numero: \"))\n",
    "a = 1\n",
    "b = 1\n",
    "print(a)\n",
    "print(b)\n",
    "for i in range(numero):\n",
    "    total = a+b\n",
    "    print(total)\n",
    "    a=b\n",
    "    b=total\n",
    "\n",
    "\n",
    "def bibonacci(numero):\n",
    "    a=1\n",
    "    b=1\n",
    "    print(a)\n",
    "    print(b)\n",
    "    for i in range(numero):\n",
    "        total = a + b\n",
    "        print(total)\n",
    "        a=b\n",
    "        b=total\n",
    "\n",
    "\n",
    "\n",
    "\n",
    "\n"
   ]
  },
  {
   "cell_type": "code",
   "execution_count": 5,
   "metadata": {},
   "outputs": [
    {
     "name": "stdout",
     "output_type": "stream",
     "text": [
      "EL CORREO ESTÁ MALO\n"
     ]
    }
   ],
   "source": [
    "correo = input(\"Ingrese su correo: \")\n",
    "a=0\n",
    "for i in correo:\n",
    "    if i==\"@\":\n",
    "        a+=1\n",
    "    else:\n",
    "        pass\n",
    "if a == 1:\n",
    "    print(\"el correo está bien\")\n",
    "else:\n",
    "    print(\"EL CORREO ESTÁ MALO\")"
   ]
  },
  {
   "cell_type": "code",
   "execution_count": null,
   "metadata": {},
   "outputs": [],
   "source": [
    "class carro(self):\n",
    "    self.marca = \"marca\"\n",
    "    self.costo = 0\n",
    "    self.referencia = \"ref\"\n",
    "\n",
    "\n",
    "    "
   ]
  }
 ],
 "metadata": {
  "interpreter": {
   "hash": "a36bca5ff974c401f09def3bd15a4190e702c70b8d733d15552420935303c2a8"
  },
  "kernelspec": {
   "display_name": "Python 3.10.1 64-bit (system)",
   "language": "python",
   "name": "python3"
  },
  "language_info": {
   "codemirror_mode": {
    "name": "ipython",
    "version": 3
   },
   "file_extension": ".py",
   "mimetype": "text/x-python",
   "name": "python",
   "nbconvert_exporter": "python",
   "pygments_lexer": "ipython3",
   "version": "3.10.1"
  },
  "orig_nbformat": 4
 },
 "nbformat": 4,
 "nbformat_minor": 2
}
